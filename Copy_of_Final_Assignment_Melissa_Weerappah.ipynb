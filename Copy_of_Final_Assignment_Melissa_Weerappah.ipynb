{
  "cells": [
    {
      "cell_type": "markdown",
      "metadata": {
        "id": "view-in-github",
        "colab_type": "text"
      },
      "source": [
        "<a href=\"https://colab.research.google.com/github/melw2/hds-blog/blob/main/Copy_of_Final_Assignment_Melissa_Weerappah.ipynb\" target=\"_parent\"><img src=\"https://colab.research.google.com/assets/colab-badge.svg\" alt=\"Open In Colab\"/></a>"
      ]
    },
    {
      "cell_type": "markdown",
      "metadata": {
        "id": "1GNrOr-WiKQW"
      },
      "source": [
        "![alt text](https://drive.google.com/uc?export=view&id=1DXUVHxd4t15mfuqMgMCLnsP4jWVI5EWz)\n",
        "\n",
        "---\n",
        "\n",
        "<br>\n",
        "© 2022 Copyright The University of New South Wales - CRICOS 00098G\n",
        "\n",
        "**Authors**: Oscar Perez-Concha and Zhisheng (Sandy) Sa.\n",
        "\n",
        "**Communications**: If you have any questions, please email Oscar and Sandy at: o.perezconcha@unsw.edu.au and z.sa@unsw.edu.au\n",
        "\n",
        "**Please use email exclusively for communication with us regarding this assignment.**"
      ]
    },
    {
      "cell_type": "markdown",
      "source": [
        "# Final Assignment "
      ],
      "metadata": {
        "id": "N6T0wwT_GozJ"
      }
    },
    {
      "cell_type": "markdown",
      "source": [
        "\n",
        "\n",
        "---\n",
        "\n"
      ],
      "metadata": {
        "id": "R1skKevpG0jB"
      }
    },
    {
      "cell_type": "markdown",
      "source": [
        ""
      ],
      "metadata": {
        "id": "QmhnQ1KbGY0B"
      }
    },
    {
      "cell_type": "markdown",
      "metadata": {
        "id": "fN4p9w5eiKQY"
      },
      "source": [
        "#####################################################################################\n",
        "\n",
        "Double-click to write down your name and surname.\n",
        "\n",
        "**Name and Surname:**\n",
        "\n",
        "Melissa Weerappah\n",
        "\n",
        "**Honour Pledge** <p>\n",
        "    \n",
        "    \n",
        "Declaration: <p>\n",
        "    Yes\n",
        "    \n",
        "I declare that this assessment item is my own work, except where acknowledged, and has not been submitted for academic credit elsewhere or previously, or produced independently of this course (e.g. for a third party such as your place of employment) and acknowledge that the assessor of this item may, for the purpose of assessing this item: \n",
        "\n",
        "1. Reproduce this assessment item and provide a copy to another member of the University; and/or \n",
        "\n",
        "2. Communicate a copy of this assessment item to a plagiarism checking service (which may then retain a copy of the assessment item on its database for the purpose of future plagiarism checking). \n",
        "\n",
        "#####################################################################################"
      ]
    },
    {
      "cell_type": "markdown",
      "source": [
        "---\n",
        "# 1.  Health Data Science Scenario\n",
        " \n",
        "## 1a. Research Question\n",
        "\n",
        "Our hospital has been very proactive in terms of analysing data of its electronic medical record (EMR). By analysing the data, they have made very interesing discoveries:\n",
        "\n",
        "1. They identified that readmitted patients are not only those who were sicker in the first admission, but those who had less support at home after discharge or those patients that did not have a medical follow-up after discharge.\n",
        "2. Readmitted patients experienced high levels of emotional stress.\n",
        "3. Readmitted patients were at much higher risk of acquiring new infections while at hospital.\n",
        "4. Readmissions are highly costly. Patients that were readmitted for the reasons cited above tended to be sicker than they were when they were first admitted and their length of stay was significantly longer than their first admission.\n",
        "\n",
        "Our hospital has trialed a \"specialised unit\" that coordinates the patient's discharge. A team of nurses and OTs visit the patient's home after discharge. The frequency of the visits depends upon an assessment made before discharge, but the average number of visits is 5 across the board. Amongst other things, they make sure that the wounds are healing properly, medication is taken, that there is coordination with a GP in place and basic daily activities can be done, such as moving around their home, toilet, cooking, ...\n",
        "In addition, the specialised unit regularly contacts the patients via telephone to check that everything is going well. The patients can also contact the specialised unit if they need any help. \n",
        "\n",
        "This pilot has drastically reduced the number of readmissions. \n",
        "\n",
        "In addition, the cost of operating the specialised unit was much cheaper than the cost of readmissions.\n",
        "\n",
        "In terms of budget:\n",
        "1. A day in hospital costs 5,000 dollars per day on average; readmitted patients tend to stay an average of 4 days.\n",
        "2. A home visit of the specialised unit costs 400 dollars; the average number of visits is 5. \n",
        "3. No targeted patients: 0 dollars\n",
        "\n",
        "Our hospital is now ready to roll out and implement the specialised unit service to all patients at risk for readmission. \n",
        "The problem is that a priori, they do not know which patients are at risk of readmission. Thus, they do not know the patients they should be targeting.\n",
        "\n",
        "\n",
        "<b><font color=green>Goal/Research Question: </font>\n",
        "1. The hospital needs a machine learning algorithm to predict which patients should participate in this intervention. The prediction will be done just before discharge. They are hiring you to build this algorithm.\n",
        "\n",
        "2. You will need to explain to the hospital managers the performance of your algoritm, so they can make an informed decision whether to use your algorithm or not."
      ],
      "metadata": {
        "id": "PlVCjmaWCpzF"
      }
    },
    {
      "cell_type": "markdown",
      "source": [
        "\n",
        "\n",
        "---\n",
        "\n"
      ],
      "metadata": {
        "id": "k_dDoHDsl9X2"
      }
    },
    {
      "cell_type": "markdown",
      "source": [
        "## 1b. Instructions\n",
        "\n",
        "1. We are going to deliver one predictive model to predict readmission to hospital within 30 days of discharge. \n",
        "\n",
        "2. Check and study the data provided. Read the data dictionary carefully and check again the plots and graphs created in the exercises corresponding to weeks 1, 2 and 3. \n",
        "\n",
        "3. Since the data have been already provided by the hospital, we are going to skip the next steps of the health data science workflow (see image below). \n",
        "  - Step 3 and substeps 3a,3b,3c,3d,3e: Data Gathering.\n",
        "\n",
        "4. Step 4, substep 4a: Data visualization. Visualize the data in your draft, but do not include the graphs in the final submission.\n",
        "\n",
        "5. The hospital wants the model to capture as many \"readmissions\" as posible (true positives) even at the expense of <font color='green'><b> moderately</b> </font> increasing the number of false positives <font color='green'><b>  within reason</b></font> (that is, patients that are not at risk of readmission that are classified as readmission). \n",
        "\n",
        "6. Nevertheless, we must take into account that the hospital does not have unlimited resources, so they cannot considered a high number of patients at risk of readmission because the cost of the \"specialised unit\" would be very high.  \n",
        "\n",
        "7. You will design several machine learning algorithms, choose one, and give a rationale explaining why you choose that algorithm. \n",
        "\n",
        "    * Build some predictive models to predict readmission to hospital within 30 days of discharge using:  \n",
        "        *  'Logistic Regression Classifiers' \n",
        "        * 'Random Forest Classifier'. \n",
        "        \n",
        "8. Use the `classification_report` and confusion matrix metrics to evaluate your models. If you use other metrics, such as the ROC curve, do not include them in the final submission.\n",
        "\n",
        "9. <b> Very Important: Justify your decisions and why they were made in the space provided.</b>   Write <b>one or two sentences</b> for each section before each block of Python code with the description of what the blocks do; explanations must be clear; no “sanity checks” (although these checks are encouraged during the construction of the algorithms); \n",
        "\n",
        "10. Print clear labels in the printed results and explain in short and concise sentences the steps that you followed. \n",
        "\n",
        "11. Comment and document your code, as you will most likely later work in teams developing such algorithms.\n",
        "\n",
        "12. Format: Jupyter Notebook.\n",
        "13. Programming Language: Python.\n",
        "14. Platform: Google Colab.\n",
        "15. The assignment will be mark using the rubric provided in the outline\n",
        "\n",
        "16. **Submission: Upload the Jupyter Notebook in OpenLearning, in the section provided for that and on your GitHub space. The application wil close at exactly the date and time of the deadline.**\n",
        "\n",
        "17. Marks will be deducted if these instructions are not followed.\n",
        "\n",
        "18. <b><font color=green>Only the final version of the document must be submitted. </font></b>. \n",
        "\n",
        "19. Add your name and surname to the name of this document. For example. `Final-Assignment-Oscar-PerezConcha.ipynb`\n",
        "\n",
        "20. Each question is 10 marks, except question 8 that is 20 marks.\n",
        "\n",
        "21. If you have any questions, please email Oscar and Sandy at:\n",
        "o.perezconcha@unsw.edu.au and z.sa@unsw.edu.au"
      ],
      "metadata": {
        "id": "15VKZz_8G3s4"
      }
    },
    {
      "cell_type": "markdown",
      "source": [
        "![alt text](https://drive.google.com/uc?export=view&id=105SGqeyo8RgLhSO8mN7ZE5OsG0YiLPKt)"
      ],
      "metadata": {
        "id": "9wK1oQbhq5hX"
      }
    },
    {
      "cell_type": "markdown",
      "source": [
        "\n",
        "\n",
        "---\n",
        "\n"
      ],
      "metadata": {
        "id": "3eE8VXdpl_I2"
      }
    },
    {
      "cell_type": "code",
      "execution_count": 1,
      "metadata": {
        "id": "skbhUSeQiKQa",
        "colab": {
          "base_uri": "https://localhost:8080/"
        },
        "outputId": "ff094d18-400f-492d-b21b-23dc04db0f56"
      },
      "outputs": [
        {
          "output_type": "stream",
          "name": "stdout",
          "text": [
            "Installing:  {'grid', 'shap'}\n"
          ]
        }
      ],
      "source": [
        "# check required libraries are installed if not calling system to install\n",
        "import sys\n",
        "import subprocess\n",
        "import pkg_resources\n",
        "\n",
        "required = {'numpy', 'pandas', 'plotnine', 'matplotlib', 'seaborn', \n",
        "            'grid', 'shap', 'scikit-learn'}\n",
        "installed = {pkg.key for pkg in pkg_resources.working_set}\n",
        "missing = required - installed\n",
        "\n",
        "if missing:\n",
        "    print('Installing: ', missing)\n",
        "    python = sys.executable\n",
        "    subprocess.check_call([python, '-m', 'pip', 'install', *missing], stdout=subprocess.DEVNULL)\n",
        "# delete unwanted variables\n",
        "del required \n",
        "del installed \n",
        "del missing"
      ]
    },
    {
      "cell_type": "code",
      "execution_count": 2,
      "metadata": {
        "id": "Y8p62DC4iKQb",
        "colab": {
          "base_uri": "https://localhost:8080/"
        },
        "outputId": "aa338b72-9cde-48d4-c8f7-534c9ed95995"
      },
      "outputs": [
        {
          "output_type": "stream",
          "name": "stdout",
          "text": [
            "Mounted at /content/drive\n"
          ]
        }
      ],
      "source": [
        "# Mount Google Drive\n",
        "# We do not need to run this cell if you are not running this notebook in Google Colab\n",
        "\n",
        "if 'google.colab' in str(get_ipython()):\n",
        "    from google.colab import drive # import drive from Gogle colab\n",
        "    root = '/content/drive'     # default location for the drive\n",
        "    # print(root)                 # print content of ROOT (Optional)\n",
        "    drive.mount(root)\n",
        "else:\n",
        "    print('Not running on CoLab')"
      ]
    },
    {
      "cell_type": "markdown",
      "source": [
        "Change the project paths and the paths according to where you have placed your files: "
      ],
      "metadata": {
        "id": "T70EJU8pAzeY"
      }
    },
    {
      "cell_type": "code",
      "execution_count": 3,
      "metadata": {
        "id": "kRNGzaEjiKQc"
      },
      "outputs": [],
      "source": [
        "from pathlib import Path\n",
        "\n",
        "if 'google.colab' in str(get_ipython()):\n",
        "    # EDIT THE PROJECT PATH IF DIFFERENT WITH YOUR ONE\n",
        "    project_path = Path(root) / 'MyDrive' / 'HDAT9500' / 'final-assignment'\n",
        "\n",
        "    # OPTIONAL - set working directory according to your google drive project path\n",
        "    # import os\n",
        "    # Change directory to the location defined in project_path\n",
        "    # os.chdir(project_path)\n",
        "else:\n",
        "    project_path = Path()"
      ]
    },
    {
      "cell_type": "markdown",
      "source": [
        "\n",
        "\n",
        "---\n",
        "Function to plot the confusion matrix:\n"
      ],
      "metadata": {
        "id": "58McxBL6Angl"
      }
    },
    {
      "cell_type": "code",
      "source": [
        "def plot_confusion_matrix(confusion_matrix):\n",
        "  # visualise the confusion matrix\n",
        "  labels = ['No', 'Yes']\n",
        "  ax = plt.subplot()\n",
        "  sns.heatmap(confusion_matrix, annot = True, fmt = '.0f', ax = ax, cmap = 'viridis')\n",
        "\n",
        "  # labels, titles and ticks\n",
        "  ax.set_xlabel('Predicted labels')\n",
        "  ax.set_ylabel('True labels')\n",
        "  ax.set_title('Confusion Matrix')\n",
        "  ax.xaxis.set_ticklabels(labels)\n",
        "  ax.yaxis.set_ticklabels(labels)\n",
        "\n"
      ],
      "metadata": {
        "id": "ptWoRBD1os1T"
      },
      "execution_count": 4,
      "outputs": []
    },
    {
      "cell_type": "markdown",
      "metadata": {
        "id": "IbpJocChpcTR"
      },
      "source": [
        "---\n",
        "# Question 1: Docstring\n",
        "\n",
        "Create a docstring with:\n",
        "1. The final aim of our program (50 words limit).\n",
        "2. The variables and constants that you will use in this exercise (data dictionary). It is expected that you choose informative variable names and document your program (both docstrings and comments). \n",
        "3. Divide the docstring in sections. One section per question.\n",
        "---"
      ]
    },
    {
      "cell_type": "markdown",
      "metadata": {
        "id": "q2zvhr_epcTS"
      },
      "source": [
        "<b> Final aim of our program:</b>\n",
        "\n",
        "################################################################################\n",
        "\n",
        "(double-click here)\n",
        "\n",
        "\n",
        "################################################################################"
      ]
    },
    {
      "cell_type": "markdown",
      "metadata": {
        "id": "-3wGayW7marI"
      },
      "source": [
        "<b> Constants and variables in alphabetical order:</b>\n",
        "\n",
        "################################################################################\n",
        "\n",
        "(double-click here)\n",
        "For example:\n",
        "\n",
        "\n",
        "---\n",
        "<b> Aim of this program </b>\n",
        "\n",
        "(...)\n",
        "\n",
        "---\n",
        "\n",
        "---\n",
        "<b> Question 1: </b>\n",
        "\n",
        "* `variable_1`: description\n",
        "* `CONSTANT`: description\n",
        "* ...\n",
        "\n",
        "---\n",
        "\n",
        "(...)\n",
        "\n",
        "---\n",
        "<b> Question 4: Training, and hyper-parameter tuning of the Logistic Regression model.</b>\n",
        "\n",
        "* `variable_10`: description\n",
        "* `CONSTANT`: description\n",
        "* ...\n",
        "\n",
        "---\n",
        "\n",
        "<b>Question 5: Evaluation of the Logistic Regression: </b>\n",
        "\n",
        "* `confusion_LR_test`: confusion matrix derived from `y_test` and `y_pred_LR_test` for the logistic regression model `grid_search_LR` evaluated on the test set. \n",
        "* `confusion_RF_test`: confusion matrix derived from `y_test` and `y_pred_RF_test` for the random forest model `grid_search_RF` evaluated on the test set. \n",
        "\n",
        "---\n",
        "\n",
        "<b>Question 5: ... </b>\n",
        "\n",
        "* `variable_200`: description\n",
        "* ...\n",
        "---\n",
        "\n",
        "################################################################################"
      ]
    },
    {
      "cell_type": "markdown",
      "source": [
        "\n",
        "\n",
        "---\n",
        "\n"
      ],
      "metadata": {
        "id": "ew1S59Vj1l2m"
      }
    },
    {
      "cell_type": "markdown",
      "source": [
        ""
      ],
      "metadata": {
        "id": "DzkNYYcFVIKD"
      }
    },
    {
      "cell_type": "code",
      "source": [
        "# import libraries\n",
        "import pickle\n",
        "from sklearn.model_selection import train_test_split\n",
        "from sklearn.linear_model import LogisticRegression\n",
        "from sklearn.pipeline import Pipeline\n",
        "from sklearn.preprocessing import StandardScaler\n",
        "from sklearn.model_selection import GridSearchCV\n",
        "from sklearn.metrics import confusion_matrix\n",
        "from sklearn.metrics import f1_score\n",
        "from sklearn.metrics import classification_report\n",
        "from sklearn import metrics\n",
        "import seaborn as sns\n",
        "import matplotlib.pyplot as plt \n",
        "from sklearn.metrics import classification_report\n",
        "from sklearn.ensemble import RandomForestClassifier\n",
        "import shap"
      ],
      "metadata": {
        "id": "T6uH4LrTi109"
      },
      "execution_count": 5,
      "outputs": []
    },
    {
      "cell_type": "markdown",
      "source": [
        "---\n",
        "# Question 2: Read and check the `pickle` provided. Prepare the data so they can be used by the algorithms that you are going to create.\n",
        "---"
      ],
      "metadata": {
        "id": "DmqPFyIbnJci"
      }
    },
    {
      "cell_type": "markdown",
      "source": [
        "<b> Rationale: What are you doing to solve this question?-75 words limit:</b>\n",
        "\n",
        "\n",
        "################################################################################\n",
        "\n",
        "I first inspected the dataset; checking column names and data types for each column. Then I dropped the ID variables because they are not required, and used a sanity check. I checked for null records, then I separated the readmission column (y) from the rest of the dataset (X). I converted readmission column (y) to binary.  \n",
        "\n",
        "\n",
        "################################################################################"
      ],
      "metadata": {
        "id": "1AogtSxHxEW5"
      }
    },
    {
      "cell_type": "code",
      "source": [
        "# Read in data set\n",
        "pickle_path = Path(project_path) / 'data' / 'hospital_data_final_assignment.pickle'\n",
        "\n",
        "with open(pickle_path, 'rb') as data:\n",
        "   hospital = pickle.load(data)\n",
        "\n",
        "hospital.head()"
      ],
      "metadata": {
        "id": "DJJoTVRw049e",
        "colab": {
          "base_uri": "https://localhost:8080/",
          "height": 317
        },
        "outputId": "b77b683a-96b0-4508-a918-bf251e64031f"
      },
      "execution_count": 6,
      "outputs": [
        {
          "output_type": "execute_result",
          "data": {
            "text/plain": [
              "   admission_id  patient_id  los  Age  number_diagnoses  num_lab_procedures  \\\n",
              "0      62781276      360576    2   79                 9                  38   \n",
              "1      49223976     8151831    5   59                 8                  49   \n",
              "2     210634308    90219069    2   33                 5                  62   \n",
              "3     163620402    54294840    6   42                 9                  77   \n",
              "4      69055020     1634688    1   62                 7                  13   \n",
              "\n",
              "   num_procedures  num_medications  number_emergency  number_inpatient  ...  \\\n",
              "0               0               12                 0                 0  ...   \n",
              "1               0               16                 0                 0  ...   \n",
              "2               0               15                 1                 0  ...   \n",
              "3               0               30                 0                 0  ...   \n",
              "4               5                6                 0                 0  ...   \n",
              "\n",
              "   admission_source_grouped_Other  \\\n",
              "0                               0   \n",
              "1                               0   \n",
              "2                               0   \n",
              "3                               0   \n",
              "4                               0   \n",
              "\n",
              "   admission_source_grouped_Physician Referral  \\\n",
              "0                                            0   \n",
              "1                                            0   \n",
              "2                                            0   \n",
              "3                                            0   \n",
              "4                                            0   \n",
              "\n",
              "   admission_source_grouped_Transfer from SNF  \\\n",
              "0                                           0   \n",
              "1                                           0   \n",
              "2                                           0   \n",
              "3                                           0   \n",
              "4                                           0   \n",
              "\n",
              "   admission_source_grouped_Transfer from another health care facility  \\\n",
              "0                                                  0                     \n",
              "1                                                  0                     \n",
              "2                                                  0                     \n",
              "3                                                  0                     \n",
              "4                                                  0                     \n",
              "\n",
              "   admission_type_grouped_Elective  admission_type_grouped_Emergency  \\\n",
              "0                                1                                 0   \n",
              "1                                1                                 0   \n",
              "2                                1                                 0   \n",
              "3                                1                                 0   \n",
              "4                                1                                 0   \n",
              "\n",
              "   admission_type_grouped_Not Available/Null  \\\n",
              "0                                          0   \n",
              "1                                          0   \n",
              "2                                          0   \n",
              "3                                          0   \n",
              "4                                          0   \n",
              "\n",
              "   admission_type_grouped_Trauma Centre  admission_type_grouped_Urgent  \\\n",
              "0                                     0                              0   \n",
              "1                                     0                              0   \n",
              "2                                     0                              0   \n",
              "3                                     0                              0   \n",
              "4                                     0                              0   \n",
              "\n",
              "   readmission  \n",
              "0           no  \n",
              "1           no  \n",
              "2           no  \n",
              "3           no  \n",
              "4           no  \n",
              "\n",
              "[5 rows x 72 columns]"
            ],
            "text/html": [
              "\n",
              "  <div id=\"df-13dcd1c9-609f-431f-83c6-7c027642c8b1\">\n",
              "    <div class=\"colab-df-container\">\n",
              "      <div>\n",
              "<style scoped>\n",
              "    .dataframe tbody tr th:only-of-type {\n",
              "        vertical-align: middle;\n",
              "    }\n",
              "\n",
              "    .dataframe tbody tr th {\n",
              "        vertical-align: top;\n",
              "    }\n",
              "\n",
              "    .dataframe thead th {\n",
              "        text-align: right;\n",
              "    }\n",
              "</style>\n",
              "<table border=\"1\" class=\"dataframe\">\n",
              "  <thead>\n",
              "    <tr style=\"text-align: right;\">\n",
              "      <th></th>\n",
              "      <th>admission_id</th>\n",
              "      <th>patient_id</th>\n",
              "      <th>los</th>\n",
              "      <th>Age</th>\n",
              "      <th>number_diagnoses</th>\n",
              "      <th>num_lab_procedures</th>\n",
              "      <th>num_procedures</th>\n",
              "      <th>num_medications</th>\n",
              "      <th>number_emergency</th>\n",
              "      <th>number_inpatient</th>\n",
              "      <th>...</th>\n",
              "      <th>admission_source_grouped_Other</th>\n",
              "      <th>admission_source_grouped_Physician Referral</th>\n",
              "      <th>admission_source_grouped_Transfer from SNF</th>\n",
              "      <th>admission_source_grouped_Transfer from another health care facility</th>\n",
              "      <th>admission_type_grouped_Elective</th>\n",
              "      <th>admission_type_grouped_Emergency</th>\n",
              "      <th>admission_type_grouped_Not Available/Null</th>\n",
              "      <th>admission_type_grouped_Trauma Centre</th>\n",
              "      <th>admission_type_grouped_Urgent</th>\n",
              "      <th>readmission</th>\n",
              "    </tr>\n",
              "  </thead>\n",
              "  <tbody>\n",
              "    <tr>\n",
              "      <th>0</th>\n",
              "      <td>62781276</td>\n",
              "      <td>360576</td>\n",
              "      <td>2</td>\n",
              "      <td>79</td>\n",
              "      <td>9</td>\n",
              "      <td>38</td>\n",
              "      <td>0</td>\n",
              "      <td>12</td>\n",
              "      <td>0</td>\n",
              "      <td>0</td>\n",
              "      <td>...</td>\n",
              "      <td>0</td>\n",
              "      <td>0</td>\n",
              "      <td>0</td>\n",
              "      <td>0</td>\n",
              "      <td>1</td>\n",
              "      <td>0</td>\n",
              "      <td>0</td>\n",
              "      <td>0</td>\n",
              "      <td>0</td>\n",
              "      <td>no</td>\n",
              "    </tr>\n",
              "    <tr>\n",
              "      <th>1</th>\n",
              "      <td>49223976</td>\n",
              "      <td>8151831</td>\n",
              "      <td>5</td>\n",
              "      <td>59</td>\n",
              "      <td>8</td>\n",
              "      <td>49</td>\n",
              "      <td>0</td>\n",
              "      <td>16</td>\n",
              "      <td>0</td>\n",
              "      <td>0</td>\n",
              "      <td>...</td>\n",
              "      <td>0</td>\n",
              "      <td>0</td>\n",
              "      <td>0</td>\n",
              "      <td>0</td>\n",
              "      <td>1</td>\n",
              "      <td>0</td>\n",
              "      <td>0</td>\n",
              "      <td>0</td>\n",
              "      <td>0</td>\n",
              "      <td>no</td>\n",
              "    </tr>\n",
              "    <tr>\n",
              "      <th>2</th>\n",
              "      <td>210634308</td>\n",
              "      <td>90219069</td>\n",
              "      <td>2</td>\n",
              "      <td>33</td>\n",
              "      <td>5</td>\n",
              "      <td>62</td>\n",
              "      <td>0</td>\n",
              "      <td>15</td>\n",
              "      <td>1</td>\n",
              "      <td>0</td>\n",
              "      <td>...</td>\n",
              "      <td>0</td>\n",
              "      <td>0</td>\n",
              "      <td>0</td>\n",
              "      <td>0</td>\n",
              "      <td>1</td>\n",
              "      <td>0</td>\n",
              "      <td>0</td>\n",
              "      <td>0</td>\n",
              "      <td>0</td>\n",
              "      <td>no</td>\n",
              "    </tr>\n",
              "    <tr>\n",
              "      <th>3</th>\n",
              "      <td>163620402</td>\n",
              "      <td>54294840</td>\n",
              "      <td>6</td>\n",
              "      <td>42</td>\n",
              "      <td>9</td>\n",
              "      <td>77</td>\n",
              "      <td>0</td>\n",
              "      <td>30</td>\n",
              "      <td>0</td>\n",
              "      <td>0</td>\n",
              "      <td>...</td>\n",
              "      <td>0</td>\n",
              "      <td>0</td>\n",
              "      <td>0</td>\n",
              "      <td>0</td>\n",
              "      <td>1</td>\n",
              "      <td>0</td>\n",
              "      <td>0</td>\n",
              "      <td>0</td>\n",
              "      <td>0</td>\n",
              "      <td>no</td>\n",
              "    </tr>\n",
              "    <tr>\n",
              "      <th>4</th>\n",
              "      <td>69055020</td>\n",
              "      <td>1634688</td>\n",
              "      <td>1</td>\n",
              "      <td>62</td>\n",
              "      <td>7</td>\n",
              "      <td>13</td>\n",
              "      <td>5</td>\n",
              "      <td>6</td>\n",
              "      <td>0</td>\n",
              "      <td>0</td>\n",
              "      <td>...</td>\n",
              "      <td>0</td>\n",
              "      <td>0</td>\n",
              "      <td>0</td>\n",
              "      <td>0</td>\n",
              "      <td>1</td>\n",
              "      <td>0</td>\n",
              "      <td>0</td>\n",
              "      <td>0</td>\n",
              "      <td>0</td>\n",
              "      <td>no</td>\n",
              "    </tr>\n",
              "  </tbody>\n",
              "</table>\n",
              "<p>5 rows × 72 columns</p>\n",
              "</div>\n",
              "      <button class=\"colab-df-convert\" onclick=\"convertToInteractive('df-13dcd1c9-609f-431f-83c6-7c027642c8b1')\"\n",
              "              title=\"Convert this dataframe to an interactive table.\"\n",
              "              style=\"display:none;\">\n",
              "        \n",
              "  <svg xmlns=\"http://www.w3.org/2000/svg\" height=\"24px\"viewBox=\"0 0 24 24\"\n",
              "       width=\"24px\">\n",
              "    <path d=\"M0 0h24v24H0V0z\" fill=\"none\"/>\n",
              "    <path d=\"M18.56 5.44l.94 2.06.94-2.06 2.06-.94-2.06-.94-.94-2.06-.94 2.06-2.06.94zm-11 1L8.5 8.5l.94-2.06 2.06-.94-2.06-.94L8.5 2.5l-.94 2.06-2.06.94zm10 10l.94 2.06.94-2.06 2.06-.94-2.06-.94-.94-2.06-.94 2.06-2.06.94z\"/><path d=\"M17.41 7.96l-1.37-1.37c-.4-.4-.92-.59-1.43-.59-.52 0-1.04.2-1.43.59L10.3 9.45l-7.72 7.72c-.78.78-.78 2.05 0 2.83L4 21.41c.39.39.9.59 1.41.59.51 0 1.02-.2 1.41-.59l7.78-7.78 2.81-2.81c.8-.78.8-2.07 0-2.86zM5.41 20L4 18.59l7.72-7.72 1.47 1.35L5.41 20z\"/>\n",
              "  </svg>\n",
              "      </button>\n",
              "      \n",
              "  <style>\n",
              "    .colab-df-container {\n",
              "      display:flex;\n",
              "      flex-wrap:wrap;\n",
              "      gap: 12px;\n",
              "    }\n",
              "\n",
              "    .colab-df-convert {\n",
              "      background-color: #E8F0FE;\n",
              "      border: none;\n",
              "      border-radius: 50%;\n",
              "      cursor: pointer;\n",
              "      display: none;\n",
              "      fill: #1967D2;\n",
              "      height: 32px;\n",
              "      padding: 0 0 0 0;\n",
              "      width: 32px;\n",
              "    }\n",
              "\n",
              "    .colab-df-convert:hover {\n",
              "      background-color: #E2EBFA;\n",
              "      box-shadow: 0px 1px 2px rgba(60, 64, 67, 0.3), 0px 1px 3px 1px rgba(60, 64, 67, 0.15);\n",
              "      fill: #174EA6;\n",
              "    }\n",
              "\n",
              "    [theme=dark] .colab-df-convert {\n",
              "      background-color: #3B4455;\n",
              "      fill: #D2E3FC;\n",
              "    }\n",
              "\n",
              "    [theme=dark] .colab-df-convert:hover {\n",
              "      background-color: #434B5C;\n",
              "      box-shadow: 0px 1px 3px 1px rgba(0, 0, 0, 0.15);\n",
              "      filter: drop-shadow(0px 1px 2px rgba(0, 0, 0, 0.3));\n",
              "      fill: #FFFFFF;\n",
              "    }\n",
              "  </style>\n",
              "\n",
              "      <script>\n",
              "        const buttonEl =\n",
              "          document.querySelector('#df-13dcd1c9-609f-431f-83c6-7c027642c8b1 button.colab-df-convert');\n",
              "        buttonEl.style.display =\n",
              "          google.colab.kernel.accessAllowed ? 'block' : 'none';\n",
              "\n",
              "        async function convertToInteractive(key) {\n",
              "          const element = document.querySelector('#df-13dcd1c9-609f-431f-83c6-7c027642c8b1');\n",
              "          const dataTable =\n",
              "            await google.colab.kernel.invokeFunction('convertToInteractive',\n",
              "                                                     [key], {});\n",
              "          if (!dataTable) return;\n",
              "\n",
              "          const docLinkHtml = 'Like what you see? Visit the ' +\n",
              "            '<a target=\"_blank\" href=https://colab.research.google.com/notebooks/data_table.ipynb>data table notebook</a>'\n",
              "            + ' to learn more about interactive tables.';\n",
              "          element.innerHTML = '';\n",
              "          dataTable['output_type'] = 'display_data';\n",
              "          await google.colab.output.renderOutput(dataTable, element);\n",
              "          const docLink = document.createElement('div');\n",
              "          docLink.innerHTML = docLinkHtml;\n",
              "          element.appendChild(docLink);\n",
              "        }\n",
              "      </script>\n",
              "    </div>\n",
              "  </div>\n",
              "  "
            ]
          },
          "metadata": {},
          "execution_count": 6
        }
      ]
    },
    {
      "cell_type": "code",
      "source": [
        "hospital.columns"
      ],
      "metadata": {
        "colab": {
          "base_uri": "https://localhost:8080/"
        },
        "id": "sURQQ8lZoMxo",
        "outputId": "9cce42f2-7a3d-4afc-d93a-9f28ee747799"
      },
      "execution_count": 7,
      "outputs": [
        {
          "output_type": "execute_result",
          "data": {
            "text/plain": [
              "Index(['admission_id', 'patient_id', 'los', 'Age', 'number_diagnoses',\n",
              "       'num_lab_procedures', 'num_procedures', 'num_medications',\n",
              "       'number_emergency', 'number_inpatient', 'number_outpatient',\n",
              "       'sex_Female', 'sex_Male', 'max_glu_serum_>200', 'max_glu_serum_>300',\n",
              "       'max_glu_serum_None', 'max_glu_serum_Norm', 'A1Cresult_>7',\n",
              "       'A1Cresult_>8', 'A1Cresult_None', 'A1Cresult_Norm',\n",
              "       'group_name_1_Blood_&_immune', 'group_name_1_CNS',\n",
              "       'group_name_1_Cancer', 'group_name_1_Cardiac_&_circulatory',\n",
              "       'group_name_1_Digestive', 'group_name_1_Endocrine',\n",
              "       'group_name_1_Infectious', 'group_name_1_Mental_&_Substance',\n",
              "       'group_name_1_Other', 'group_name_1_Respiratory',\n",
              "       'group_name_2_Blood_&_immune', 'group_name_2_CNS',\n",
              "       'group_name_2_Cancer', 'group_name_2_Cardiac_&_circulatory',\n",
              "       'group_name_2_Digestive', 'group_name_2_Endocrine',\n",
              "       'group_name_2_Infectious', 'group_name_2_Mental_&_Substance',\n",
              "       'group_name_2_Other', 'group_name_2_Respiratory',\n",
              "       'group_name_3_Blood_&_immune', 'group_name_3_CNS',\n",
              "       'group_name_3_Cancer', 'group_name_3_Cardiac_&_circulatory',\n",
              "       'group_name_3_Digestive', 'group_name_3_Endocrine',\n",
              "       'group_name_3_Infectious', 'group_name_3_Mental_&_Substance',\n",
              "       'group_name_3_Other', 'group_name_3_Respiratory',\n",
              "       'discharge_disposition_grouped_Discharged to home',\n",
              "       'discharge_disposition_grouped_Home health service',\n",
              "       'discharge_disposition_grouped_Left AMA',\n",
              "       'discharge_disposition_grouped_Not available/Null',\n",
              "       'discharge_disposition_grouped_Other',\n",
              "       'discharge_disposition_grouped_Short term hospital',\n",
              "       'discharge_disposition_grouped_Transferred to ICF',\n",
              "       'discharge_disposition_grouped_Transferred to SNF',\n",
              "       'admission_source_grouped_Clinic Referral',\n",
              "       'admission_source_grouped_Emergency Room',\n",
              "       'admission_source_grouped_Not available/Null',\n",
              "       'admission_source_grouped_Other',\n",
              "       'admission_source_grouped_Physician Referral',\n",
              "       'admission_source_grouped_Transfer from SNF',\n",
              "       'admission_source_grouped_Transfer from another health care facility',\n",
              "       'admission_type_grouped_Elective', 'admission_type_grouped_Emergency',\n",
              "       'admission_type_grouped_Not Available/Null',\n",
              "       'admission_type_grouped_Trauma Centre', 'admission_type_grouped_Urgent',\n",
              "       'readmission'],\n",
              "      dtype='object')"
            ]
          },
          "metadata": {},
          "execution_count": 7
        }
      ]
    },
    {
      "cell_type": "code",
      "source": [
        "hospital.dtypes"
      ],
      "metadata": {
        "colab": {
          "base_uri": "https://localhost:8080/"
        },
        "id": "StvjtBGJeavJ",
        "outputId": "1f3a3fd3-18f4-4885-daa2-0c65b187b653"
      },
      "execution_count": 8,
      "outputs": [
        {
          "output_type": "execute_result",
          "data": {
            "text/plain": [
              "admission_id                                  int64\n",
              "patient_id                                    int64\n",
              "los                                           int64\n",
              "Age                                           int64\n",
              "number_diagnoses                              int64\n",
              "                                              ...  \n",
              "admission_type_grouped_Emergency              uint8\n",
              "admission_type_grouped_Not Available/Null     uint8\n",
              "admission_type_grouped_Trauma Centre          uint8\n",
              "admission_type_grouped_Urgent                 uint8\n",
              "readmission                                  object\n",
              "Length: 72, dtype: object"
            ]
          },
          "metadata": {},
          "execution_count": 8
        }
      ]
    },
    {
      "cell_type": "code",
      "source": [
        "# Drop ID variables not required for algorithms\n",
        "hospital = hospital.drop(['admission_id','patient_id'],axis=1)"
      ],
      "metadata": {
        "id": "fCMdCv4UlWl2"
      },
      "execution_count": 9,
      "outputs": []
    },
    {
      "cell_type": "code",
      "source": [
        "# Total number of null records of our dataset\n",
        "print(\"Total number of null records: \", hospital.isnull().values.sum())\n",
        "\n",
        "# Null values of all our features \n",
        "print(hospital.isnull().sum())"
      ],
      "metadata": {
        "colab": {
          "base_uri": "https://localhost:8080/"
        },
        "id": "xvGO46Nei3Xg",
        "outputId": "11a3f7da-b0a2-4115-c425-73f8e01c14d5"
      },
      "execution_count": 10,
      "outputs": [
        {
          "output_type": "stream",
          "name": "stdout",
          "text": [
            "Total number of null records:  0\n",
            "los                                          0\n",
            "Age                                          0\n",
            "number_diagnoses                             0\n",
            "num_lab_procedures                           0\n",
            "num_procedures                               0\n",
            "                                            ..\n",
            "admission_type_grouped_Emergency             0\n",
            "admission_type_grouped_Not Available/Null    0\n",
            "admission_type_grouped_Trauma Centre         0\n",
            "admission_type_grouped_Urgent                0\n",
            "readmission                                  0\n",
            "Length: 70, dtype: int64\n"
          ]
        }
      ]
    },
    {
      "cell_type": "code",
      "source": [
        "# Dividing my dataset in X and y (outcome)\n",
        "X = hospital.drop(axis=1, columns=['readmission'])\n",
        "y = hospital['readmission']"
      ],
      "metadata": {
        "id": "O9Ecekn-xh1F"
      },
      "execution_count": 11,
      "outputs": []
    },
    {
      "cell_type": "code",
      "source": [
        "# Create y_binary\n",
        "y_binary = [0 if x=='no' else 1 for x in y]"
      ],
      "metadata": {
        "id": "O2zod_Qbx0tS"
      },
      "execution_count": 12,
      "outputs": []
    },
    {
      "cell_type": "markdown",
      "source": [
        "---"
      ],
      "metadata": {
        "id": "1gsmCMIJ9oQ5"
      }
    },
    {
      "cell_type": "markdown",
      "source": [
        "---\n",
        "## Question 3: Divide the data into 80% training, 20% test, random seed of 42. Set the other hyper-parameters as you consider appropriate\n",
        "---\n"
      ],
      "metadata": {
        "id": "PRlUipB2-nMX"
      }
    },
    {
      "cell_type": "markdown",
      "source": [
        "<b> Rationale: What are you doing to solve this question?-75 words limit:</b>\n",
        "\n",
        "\n",
        "################################################################################\n",
        "\n",
        "I used train_test_split to divide the data. I also stratified the responses so that data is randomly assigned to each set. \n",
        "\n",
        "\n",
        "################################################################################"
      ],
      "metadata": {
        "id": "7HjTXSR6-4cR"
      }
    },
    {
      "cell_type": "code",
      "source": [
        "# Split X and y into 80% train and 20% test data (roughly), set random state for reproducibility and stratify responses\n",
        "X_train, X_test, y_train, y_test = train_test_split(X, y_binary, test_size=0.2, random_state=42, stratify = y)"
      ],
      "metadata": {
        "id": "5LeXrTXc-4cR"
      },
      "execution_count": 13,
      "outputs": []
    },
    {
      "cell_type": "markdown",
      "source": [
        "\n",
        "\n",
        "---\n",
        "\n"
      ],
      "metadata": {
        "id": "ZcRSCX5s1kPR"
      }
    },
    {
      "cell_type": "markdown",
      "source": [
        "---\n",
        "## Question 4: Training, and hyper-parameter tuning of the Logistic Regression model.  \n",
        "\n",
        "Hyper-parameters: \n",
        "\n",
        "- `C` values: 10, 100.\n",
        "- `class_weight`: only two pairs. Choose one of these two combinations and explain why.\n",
        "\n",
        "    * A weight of (80% for class 1, 20% for class 0) and (70% for class 1, 30% for class 0)\n",
        "    * A weight of (80% for class 0, 20% for class 1) and (70% for class 0, 30% for class 1). \n",
        "\n",
        "- `penalty` values: l1, l2.\n",
        "- 3-fold cross-validation for the grid search.\n",
        "- `f1` as the score to choose the best model in the grid search.\n",
        "- `n_jobs`=-1.\n",
        "- do not include the heatmaps in the final submission.\n",
        "- do not change these hyper-parameters, \n",
        "- keep the remaining set of hyper-parameters in the default state. \n",
        "---\n"
      ],
      "metadata": {
        "id": "b3v2JXmp1o5W"
      }
    },
    {
      "cell_type": "markdown",
      "source": [
        "<b> Rationale: What are you doing to solve this question?-75 words limit:</b>\n",
        "\n",
        "\n",
        "################################################################################\n",
        "\n",
        "First I introduced the StandardScaler function to scale the variables which will improve accuracy. Then I created the log_reg function to include ‘ElasticNet’ because the penalty values requested are both L1 and L2. This combines the penalties of Lasso and Ridge and requires ‘saga’ solver as per the documentation. It also requires 0 <= l1_ratio <= 1 so I chose 0.5. I created a pipeline and a parameter grid to be passed with the options specified. I then fit the best model using grid search to the training set.\n",
        "\n",
        "\n",
        "################################################################################"
      ],
      "metadata": {
        "id": "p845NQAlAY-U"
      }
    },
    {
      "cell_type": "code",
      "source": [
        "# Scaler/Standardisation\n",
        "Scaler = StandardScaler()\n",
        "\n",
        "Log_Reg = LogisticRegression( penalty = 'elasticnet', solver='saga', n_jobs=-1, l1_ratio =0.5)\n",
        "\n",
        "# PipeLine: \n",
        "pipe = Pipeline([('Transform', Scaler), ('Estimator', Log_Reg)])\n",
        "\n",
        "#Defining the hyper-parameters grid:\n",
        "param_grid = {'Estimator__C': [10, 100], 'Estimator__class_weight':[{0: w} for w in [0.2, 0.3]]}\n",
        "\n",
        "# Use grid search to find best model with given hyperparameters \n",
        "grid_search = GridSearchCV(pipe, param_grid, cv = 3, scoring='f1')"
      ],
      "metadata": {
        "id": "-ixDi9nvAY-d"
      },
      "execution_count": 14,
      "outputs": []
    },
    {
      "cell_type": "code",
      "source": [
        "grid_search.fit(X_train, y_train)\n",
        "\n",
        "print(\"Best hyper-parameters: {}\".format(grid_search.best_params_))\n",
        "print(\"Best cross-validation score: {:.4f}\".format(grid_search.best_score_))"
      ],
      "metadata": {
        "colab": {
          "base_uri": "https://localhost:8080/"
        },
        "id": "E9tVLC6uu7nF",
        "outputId": "723e68c3-f416-4315-c46a-b6bfd8730814"
      },
      "execution_count": 15,
      "outputs": [
        {
          "output_type": "stream",
          "name": "stdout",
          "text": [
            "Best hyper-parameters: {'Estimator__C': 10, 'Estimator__class_weight': {0: 0.3}}\n",
            "Best cross-validation score: 0.9270\n"
          ]
        },
        {
          "output_type": "stream",
          "name": "stderr",
          "text": [
            "The max_iter was reached which means the coef_ did not converge\n"
          ]
        }
      ]
    },
    {
      "cell_type": "markdown",
      "source": [
        "\n",
        "\n",
        "---\n",
        "\n"
      ],
      "metadata": {
        "id": "98-HHV0DNkkC"
      }
    },
    {
      "cell_type": "markdown",
      "source": [
        "---\n",
        "## Question 5: Evaluation of the Logistic Regression model on the training and test sets. Use the function `plot_confusion_matrix(confusion_matrix)` provided above.\n",
        "---"
      ],
      "metadata": {
        "id": "y2BLfWf9NmWf"
      }
    },
    {
      "cell_type": "markdown",
      "source": [
        "<b> Rationale: What are you doing to solve this question?-75 words limit:</b>\n",
        "\n",
        "\n",
        "################################################################################\n",
        "\n",
        "First I generated predictions for the test data using the best hyper parameters and then input this into the confusion matrix function. The f1 score for the model is 0.92.\n",
        "\n",
        "################################################################################"
      ],
      "metadata": {
        "id": "T0ZoopThNyaW"
      }
    },
    {
      "cell_type": "code",
      "source": [
        "# Generate predictions for test data based on the model with best parameters generated by GridSearchCV \n",
        "y_pred = grid_search.predict(X_test)\n",
        "\n",
        "# Generate confusion matrix for evaluation\n",
        "confusion = confusion_matrix(y_test, y_pred)\n",
        "\n",
        "# plot confusion matrix\n",
        "plot_confusion_matrix(confusion)\n",
        "\n",
        "# print classification report\n",
        "print(classification_report(y_test, y_pred))"
      ],
      "metadata": {
        "id": "L1GEJ8kGNyaW",
        "colab": {
          "base_uri": "https://localhost:8080/",
          "height": 460
        },
        "outputId": "4251d1dc-dc81-44d8-cf35-e014691d970b"
      },
      "execution_count": 16,
      "outputs": [
        {
          "output_type": "stream",
          "name": "stdout",
          "text": [
            "              precision    recall  f1-score   support\n",
            "\n",
            "           0       0.99      0.97      0.98     11470\n",
            "           1       0.88      0.97      0.92      2384\n",
            "\n",
            "    accuracy                           0.97     13854\n",
            "   macro avg       0.94      0.97      0.95     13854\n",
            "weighted avg       0.97      0.97      0.97     13854\n",
            "\n"
          ]
        },
        {
          "output_type": "display_data",
          "data": {
            "text/plain": [
              "<Figure size 432x288 with 2 Axes>"
            ],
            "image/png": "[encoded data removed]"
          },
          "metadata": {
            "needs_background": "light"
          }
        }
      ]
    },
    {
      "cell_type": "markdown",
      "source": [
        "\n",
        "\n",
        "---\n",
        "\n"
      ],
      "metadata": {
        "id": "CTIi2cd1yugI"
      }
    },
    {
      "cell_type": "markdown",
      "source": [
        "---\n",
        "## Question 6: Training, and hyper-parameter tuning of the Random Forest model.  \n",
        "\n",
        "Fixed hyper-parameters (do not change the values of these hyper-parameters): \n",
        "\n",
        "- `n_estimators`: 150, 200\n",
        "- `class_weight`: Only two pairs. Choose one of these two combinations and explain why.\n",
        "1. A weight of (80% for class 1, 20% for class 0) and (70% for class 1, 30% for class 0)\n",
        "2.  A weight of (80% for class 0, 20% for class 1) and (70% for class 0, 30% for class 1). \n",
        "- 3-fold cross-validation for the grid search.\n",
        "- `f1` as the score to choose the best model in the grid search.\n",
        "- `n_jobs`=-1\n",
        "- do not include the heatmaps in the final submission\n",
        "\n",
        "Other hyper-parameters: \n",
        "\n",
        "- `max_features`: 20, 30\n",
        "- `min_samples_split`: 20, 25\n",
        "- you can change the previous hyper-parameters (`max_features` and `min_samples_split`) or add other hyper-parameters if you wish. An explanation must be given to why you made that decision. \n",
        "\n",
        "---\n"
      ],
      "metadata": {
        "id": "iTQtpo_8yvX3"
      }
    },
    {
      "cell_type": "markdown",
      "source": [
        "<b> Rationale: What are you doing to solve this question?-75 words lilmit:</b>\n",
        "\n",
        "\n",
        "################################################################################\n",
        "\n",
        "I created a variable for the random forest classifier. Then I created a parameter grid variable containing different options for the specified hyper-parameters. This was then entered into the 3-fold cross-validation grid search. At this point I fit the model to the training set and checked the f1 score (not shown in final version) to check other values for ‘max_features’ (10, 30, 40) and ‘min_sample_split’ (15, 30 etc). Some combinations gave a slightly better f1 score but increased the false negatives and false positives in the confusion matrix so I decided to leave the original values. I also tried adding max_leaf_nodes but this made the f1 score worse. \n",
        "\n",
        "################################################################################"
      ],
      "metadata": {
        "id": "fA5-7Qpe2SPC"
      }
    },
    {
      "cell_type": "code",
      "source": [
        "forest = RandomForestClassifier(random_state=2, n_jobs=-1)\n",
        "\n",
        "#Defining the hyper-parameters grid:\n",
        "param_grid2 = {'n_estimators': [150,200], 'class_weight':[{0: w} for w in [0.2, 0.3]], 'max_features': [20,30], 'min_samples_split': [20,25]}\n",
        "\n",
        "grid_search2 = GridSearchCV(forest, param_grid=param_grid2, cv = 3, scoring='f1')"
      ],
      "metadata": {
        "id": "9CHL7UB52SPJ"
      },
      "execution_count": 17,
      "outputs": []
    },
    {
      "cell_type": "code",
      "source": [
        "grid_search2.fit(X_train, y_train)\n",
        "print(\"Accuracy on training set: {:.3f}\".format(grid_search2.score(X_train, y_train)))\n",
        "print(\"Accuracy on test set: {:.3f}\".format(grid_search2.score(X_test, y_test)))\n",
        "\n",
        "print(\"Best hyper-parameters: {}\".format(grid_search2.best_params_))\n",
        "print(\"Best cross-validation score: {:.4f}\".format(grid_search2.best_score_))"
      ],
      "metadata": {
        "id": "oUKlJ7CCVYDi"
      },
      "execution_count": null,
      "outputs": []
    },
    {
      "cell_type": "markdown",
      "source": [
        "---"
      ],
      "metadata": {
        "id": "_zu7iaT8AANM"
      }
    },
    {
      "cell_type": "markdown",
      "source": [
        "---\n",
        "## Question 7: Evaluation of the Random Forest model on the training and test sets. Use the function `plot_confusion_matrix(confusion_matrix)` provided above.\n",
        "---"
      ],
      "metadata": {
        "id": "xwh91teY3VgL"
      }
    },
    {
      "cell_type": "markdown",
      "source": [
        "<b> Rationale: What are you doing to solve this question?-50 words limit:</b>\n",
        "\n",
        "################################################################################\n",
        "\n",
        "(double-click here)\n",
        "\n",
        "\n",
        "################################################################################"
      ],
      "metadata": {
        "id": "hiHbV8Sf3VgT"
      }
    },
    {
      "cell_type": "code",
      "source": [
        "# Generate predictions for test data based on the model with best parameters generated by GridSearchCV \n",
        "y_pred2 = grid_search2.predict(X_test)\n",
        "\n",
        "# Generate confusion matrix for evaluation\n",
        "confusion2 = confusion_matrix(y_test, y_pred2)\n",
        "plot_confusion_matrix(confusion2)\n",
        "\n",
        "print(classification_report(y_test, y_pred2))"
      ],
      "metadata": {
        "id": "Yk4wPAlV3VgU"
      },
      "execution_count": null,
      "outputs": []
    },
    {
      "cell_type": "markdown",
      "source": [
        "\n",
        "\n",
        "---\n",
        "\n"
      ],
      "metadata": {
        "id": "4CsbaxoQ3VgU"
      }
    },
    {
      "cell_type": "markdown",
      "source": [
        "---\n",
        "## Question 8: Based on the research questions and the instructions; What model would you choose if any? Would you deploy this model?  - 300 words limit.\n",
        "---"
      ],
      "metadata": {
        "id": "eMBZph5HA6AN"
      }
    },
    {
      "cell_type": "markdown",
      "source": [
        "<b> 300 words limit </b>\n",
        "\n",
        "################################################################################\n",
        "\n",
        "(double-click here)\n",
        "\n",
        "\n",
        "################################################################################"
      ],
      "metadata": {
        "id": "AXP5G5nrA6AO"
      }
    },
    {
      "cell_type": "code",
      "source": [
        "# Python code here (10 lines limit, and 2 cells limit)\n",
        "import numpy as np\n",
        "\n",
        "\n",
        "def plot_feature_importances(model):\n",
        "    plt.rcParams[\"figure.figsize\"] = (7,8)\n",
        "    # Sort feature importances in ascending order\n",
        "    indices = np.argsort(model.feature_importances_)\n",
        "    \n",
        "    # Rearrange feature names so they match the sorted feature importances\n",
        "    columns_name = [X.columns[i] for i in indices]\n",
        "    \n",
        "    # Create plot\n",
        "    plt.figure()\n",
        "    plt.title(\"Feature Importance\")\n",
        "    plt.xlabel(\"Feature\")\n",
        "    plt.ylabel(\"Feature Importance\")\n",
        "    plt.barh(range(X.shape[1]), model.feature_importances_[indices])\n",
        "    plt.yticks(range(X.shape[1]), columns_name)\n",
        "    plt.show()\n",
        "\n",
        "plot_feature_importances(grid_search2.best_estimator_)"
      ],
      "metadata": {
        "id": "heyMLNJtA6AO"
      },
      "execution_count": null,
      "outputs": []
    },
    {
      "cell_type": "code",
      "source": [
        "def plot_feature_importances(model):\n",
        "    plt.rcParams[\"figure.figsize\"] = (6,4)\n",
        "    #locate indices of the features with feature importance greater than 0.01. Sort descending\n",
        "    indices = np.argsort(model.feature_importances_)\n",
        "    indices = indices[-17:]\n",
        "    \n",
        "    # Rearrange feature names so they match the sorted feature importances\n",
        "    columns_name = [X.columns[i] for i in indices]\n",
        "    \n",
        "    #extract the number of features that have non-zero feature importance\n",
        "    n_features = X.iloc[:,indices].shape[1]\n",
        "    \n",
        "    # Create plot\n",
        "    plt.figure()\n",
        "    plt.title(\"Feature Importance\")\n",
        "    plt.xlabel(\"Feature\")\n",
        "    plt.ylabel(\"Feature Importance\")\n",
        "    plt.barh(range(n_features), model.feature_importances_[indices])\n",
        "    plt.yticks(range(n_features), columns_name)\n",
        "    plt.show()\n",
        "\n",
        "plot_feature_importances(grid_search2.best_estimator_)    "
      ],
      "metadata": {
        "id": "rfgNHraxAKn8"
      },
      "execution_count": null,
      "outputs": []
    },
    {
      "cell_type": "markdown",
      "source": [
        "\n",
        "\n",
        "---\n",
        "\n"
      ],
      "metadata": {
        "id": "l63_Jk0mA6AP"
      }
    },
    {
      "cell_type": "markdown",
      "source": [
        "---\n",
        "## Question 9: Use SHAP for the final model and give some explanation of what you observe. If you haven't chosen any model in question 8, choose the best model according to the evaluation metrics. Comment the results.\n",
        "---"
      ],
      "metadata": {
        "id": "u0Wb9iHWASdT"
      }
    },
    {
      "cell_type": "markdown",
      "source": [
        "<b> Explanation of what you observe - 100 words limit:</b>\n",
        "\n",
        "################################################################################\n",
        "\n",
        "(double-click here)\n",
        "\n",
        "\n",
        "################################################################################"
      ],
      "metadata": {
        "id": "1IlYvZ83ASda"
      }
    },
    {
      "cell_type": "code",
      "source": [
        "# create new model with best hyper-parameters from grid search\n",
        "forest_final = RandomForestClassifier(random_state=2, n_jobs=-1, class_weight={0:0.3,1:0.7}, max_features=30, min_samples_split=20, n_estimators=200)\n",
        "\n",
        "# fit model to training set \n",
        "forest_final.fit(X_train, y_train)"
      ],
      "metadata": {
        "id": "DApDnTFnqRCw"
      },
      "execution_count": null,
      "outputs": []
    },
    {
      "cell_type": "code",
      "source": [
        "# Using SHAP to explain predictions\n",
        "explainer_Model1 = shap.TreeExplainer(forest_final, X_train, feature_dependence=\"independent\")       \n",
        "shap_values_Model1_train = explainer_Model1.shap_values(X_train)\n",
        "\n",
        "# Summary plot - SHAP\n",
        "shap.summary_plot(shap_values_Model1_train, X_train, feature_names= X_train.columns)"
      ],
      "metadata": {
        "id": "wh2VJms9ASda",
        "colab": {
          "base_uri": "https://localhost:8080/"
        },
        "outputId": "b85a5a7e-6d97-40f7-eb50-683802180cac"
      },
      "execution_count": null,
      "outputs": [
        {
          "output_type": "stream",
          "name": "stderr",
          "text": [
            "feature_dependence = \"independent\" has been renamed to feature_perturbation = \"interventional\"! See GitHub issue #882.\n",
            " 96%|=================== | 106448/110826 [39:53<01:38]       "
          ]
        }
      ]
    },
    {
      "cell_type": "markdown",
      "source": [
        "\n",
        "\n",
        "---\n",
        "\n"
      ],
      "metadata": {
        "id": "hrD9unXPAZQL"
      }
    },
    {
      "cell_type": "markdown",
      "metadata": {
        "id": "TYOVWp4ViKQq"
      },
      "source": [
        "© 2022 Copyright The University of New South Wales - CRICOS 00098G"
      ]
    }
  ],
  "metadata": {
    "colab": {
      "name": "Copy of Final-Assignment-Melissa-Weerappah.ipynb",
      "provenance": [],
      "collapsed_sections": [],
      "include_colab_link": true
    },
    "interpreter": {
      "hash": "aee8b7b246df8f9039afb4144a1f6fd8d2ca17a180786b69acc140d282b71a49"
    },
    "kernelspec": {
      "display_name": "Python 3.7.4 64-bit",
      "language": "python",
      "name": "python3"
    },
    "language_info": {
      "codemirror_mode": {
        "name": "ipython",
        "version": 3
      },
      "file_extension": ".py",
      "mimetype": "text/x-python",
      "name": "python",
      "nbconvert_exporter": "python",
      "pygments_lexer": "ipython3",
      "version": "3.7.4"
    }
  },
  "nbformat": 4,
  "nbformat_minor": 0
}